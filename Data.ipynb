{
 "cells": [
  {
   "cell_type": "code",
   "execution_count": 1,
   "id": "0f40e086",
   "metadata": {},
   "outputs": [],
   "source": [
    "import torch\n",
    "import torchvision\n",
    "import math\n",
    "import numpy as np\n",
    "from torch.utils.data import Dataset,DataLoader"
   ]
  },
  {
   "cell_type": "code",
   "execution_count": 2,
   "id": "c6b10297",
   "metadata": {},
   "outputs": [],
   "source": [
    "# Dataset Class\n",
    "#self refers to that instance of the class\n",
    "class WineDataset(Dataset):\n",
    "    def __init__(self):\n",
    "        xy=np.loadtxt('wine.csv',delimiter=\",\",dtype=np.float32,skiprows=1)\n",
    "        self.x=torch.from_numpy(xy[:,1:])\n",
    "        self.y=torch.from_numpy(xy[:,[0]])\n",
    "        self.n_samples=xy.shape[0]\n",
    "    \n",
    "    def __getitem__(self,index):\n",
    "        return self.x[index],self.y[index]\n",
    "    \n",
    "    def __len__(self):\n",
    "        return self.n_samples"
   ]
  },
  {
   "cell_type": "code",
   "execution_count": 3,
   "id": "845b18c6",
   "metadata": {},
   "outputs": [
    {
     "data": {
      "text/plain": [
       "(tensor([1.4230e+01, 1.7100e+00, 2.4300e+00, 1.5600e+01, 1.2700e+02, 2.8000e+00,\n",
       "         3.0600e+00, 2.8000e-01, 2.2900e+00, 5.6400e+00, 1.0400e+00, 3.9200e+00,\n",
       "         1.0650e+03]),\n",
       " tensor([1.]))"
      ]
     },
     "execution_count": 3,
     "metadata": {},
     "output_type": "execute_result"
    }
   ],
   "source": [
    "dataset=WineDataset()\n",
    "dataset[0]"
   ]
  },
  {
   "cell_type": "code",
   "execution_count": 4,
   "id": "7e555956",
   "metadata": {},
   "outputs": [],
   "source": [
    "dataloader=DataLoader(dataset=dataset,batch_size=4,shuffle=True)"
   ]
  },
  {
   "cell_type": "code",
   "execution_count": 5,
   "id": "2c2cc56f",
   "metadata": {},
   "outputs": [],
   "source": [
    "num_epochs=2\n",
    "total_samples=len(dataset)\n",
    "n_iterations=math.ceil(total_samples/4)"
   ]
  },
  {
   "cell_type": "code",
   "execution_count": 6,
   "id": "c5a04830",
   "metadata": {},
   "outputs": [
    {
     "name": "stdout",
     "output_type": "stream",
     "text": [
      "178\n"
     ]
    }
   ],
   "source": [
    "print(total_samples)"
   ]
  },
  {
   "cell_type": "code",
   "execution_count": null,
   "id": "4a9d2154",
   "metadata": {},
   "outputs": [],
   "source": [
    "for epoch in range(num_epochs):\n",
    "    for i,(inputs,labels) in enumerate(dataloader):"
   ]
  },
  {
   "cell_type": "code",
   "execution_count": null,
   "id": "fcf65155",
   "metadata": {},
   "outputs": [],
   "source": [
    "class WineDataset(Dataset):\n",
    "    def __init__(self,transform=None):\n",
    "        xy=np.loadtxt('wine.csv',delimiter=\",\",dtype=np.float32,skiprows=1)\n",
    "        self.x=torch.from_numpy(xy[:,1:])\n",
    "        self.y=torch.from_numpy(xy[:,[0]])\n",
    "        self.n_samples=xy.shape[0]\n",
    "        self.transform=transform\n",
    "        \n",
    "    def __getitem__(self,index):\n",
    "        sample= self.x[index],self.y[index]\n",
    "        if self.transform:\n",
    "            sample=self.transform(sample)\n",
    "   \n",
    "    def __len__(self):\n",
    "        return self.n_samples"
   ]
  },
  {
   "cell_type": "code",
   "execution_count": null,
   "id": "ac8bb61f",
   "metadata": {},
   "outputs": [],
   "source": []
  }
 ],
 "metadata": {
  "kernelspec": {
   "display_name": "Python 3 (ipykernel)",
   "language": "python",
   "name": "python3"
  },
  "language_info": {
   "codemirror_mode": {
    "name": "ipython",
    "version": 3
   },
   "file_extension": ".py",
   "mimetype": "text/x-python",
   "name": "python",
   "nbconvert_exporter": "python",
   "pygments_lexer": "ipython3",
   "version": "3.9.12"
  }
 },
 "nbformat": 4,
 "nbformat_minor": 5
}
