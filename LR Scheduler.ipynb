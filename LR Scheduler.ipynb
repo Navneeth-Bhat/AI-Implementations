{
 "cells": [
  {
   "cell_type": "code",
   "execution_count": 2,
   "id": "8010f6c1",
   "metadata": {},
   "outputs": [],
   "source": [
    "import torch\n",
    "import torch.nn as nn\n",
    "import numpy as np\n",
    "import torchvision\n",
    "import matplotlib.pyplot as plt\n",
    "import pandas as pd\n",
    "from torch.utils.data import Dataset,DataLoader\n",
    "from tqdm import tqdm\n",
    "\n",
    "link='C:/Users/NavneethBhat/Desktop/Code/Implementations/data/train.csv/train.csv'\n",
    "\n",
    "class DigitDataset(Dataset):\n",
    "    def __init__(self,link):\n",
    "        dataset=pd.read_csv(link,dtype=np.float32)\n",
    "        y=dataset['label'].values\n",
    "        x=dataset.drop('label',axis=1).values\n",
    "        self.x=torch.from_numpy(x)\n",
    "        self.y=torch.from_numpy(y)\n",
    "        \n",
    "    def __getitem__(self,idx):\n",
    "        return self.x[idx],self.y[idx]\n",
    "    \n",
    "    def __len__(self):\n",
    "        return self.x.shape[0]\n",
    "    \n",
    "data=DigitDataset(link)\n",
    "\n",
    "\n",
    "device=torch.device('cuda' if torch.cuda.is_available() else 'cpu')\n",
    "\n",
    "num_classes=10\n",
    "num_epochs=2\n",
    "batch_size=1\n",
    "learning_rate=2e-5\n",
    "\n",
    "train_loader=DataLoader(dataset=data,batch_size=batch_size,shuffle=True)"
   ]
  },
  {
   "cell_type": "code",
   "execution_count": 3,
   "id": "e2fb7d3d",
   "metadata": {},
   "outputs": [],
   "source": [
    "class Net(nn.Module):\n",
    "    def __init__(self):\n",
    "        super().__init__()\n",
    "        self.c1=nn.Conv2d(1,6,3)\n",
    "        self.pool=nn.MaxPool2d(2,2)\n",
    "        self.fc1=nn.Linear(6*13*13,10)\n",
    "    \n",
    "    def forward(self,x):\n",
    "        x=self.pool(self.c1(x))\n",
    "        x=torch.flatten(x,1)\n",
    "       # print(x.shape)\n",
    "        x=self.fc1(x)\n",
    "       # print(x.shape)\n",
    "        return x"
   ]
  },
  {
   "cell_type": "code",
   "execution_count": 4,
   "id": "53a49457",
   "metadata": {},
   "outputs": [],
   "source": [
    "model=Net()\n",
    "model.to(device)\n",
    "criterion=nn.CrossEntropyLoss()\n",
    "optimizer=torch.optim.Adam(model.parameters(),lr=learning_rate)\n",
    "\n",
    "#Sets the learning rate of each parameter group to the initial lr times a given function.\n",
    "l1=lambda epoch: epoch/10\n",
    "scheduler=torch.optim.lr_scheduler.LambdaLR(optimizer,l1)\n",
    "\n",
    "#Multiply the learning rate of each parameter group by the factor given in the specified function.\n",
    "l2=lambda epoch:0.95\n",
    "#scheduler=torch.optim.lr_scheduler.MultiplicativeLR(optimizer,l2)\n",
    "\n",
    "#Decays the learning rate of each parameter group by gamma every step_size epochs. \n",
    "#torch.optim.lr_scheduler.StepLR(optimizer, 2, gamma=0.1)"
   ]
  },
  {
   "cell_type": "code",
   "execution_count": 5,
   "id": "640309bb",
   "metadata": {},
   "outputs": [
    {
     "name": "stderr",
     "output_type": "stream",
     "text": [
      "                                                       \r"
     ]
    },
    {
     "name": "stdout",
     "output_type": "stream",
     "text": [
      "2.0000000000000003e-06\n",
      "tensor(61.1043, device='cuda:0', grad_fn=<NllLossBackward0>)\n"
     ]
    },
    {
     "name": "stderr",
     "output_type": "stream",
     "text": [
      "                                                       "
     ]
    },
    {
     "name": "stdout",
     "output_type": "stream",
     "text": [
      "4.000000000000001e-06\n",
      "tensor(0.8663, device='cuda:0', grad_fn=<NllLossBackward0>)\n"
     ]
    },
    {
     "name": "stderr",
     "output_type": "stream",
     "text": [
      "\r"
     ]
    }
   ],
   "source": [
    "for epoch in range(num_epochs):\n",
    "    #create progress bar with tqdm\n",
    "    #enumerate is basically a counter which allows you to access the batch \n",
    "    for i, (images,labels) in tqdm(enumerate(train_loader),total=len(train_loader),leave=False):\n",
    "        labels=labels.type(torch.LongTensor)\n",
    "        images=images.view(1,1,28,28)\n",
    "        images=images.to(device)\n",
    "        labels=labels.to(device)\n",
    "        optimizer.zero_grad()\n",
    "        preds=model(images)\n",
    "        #print(type(preds))\n",
    "        #print(labels.shape)\n",
    "        loss=criterion(preds,labels)\n",
    "        loss.backward()\n",
    "        optimizer.step()\n",
    "    scheduler.step()\n",
    "    print(optimizer.state_dict()['param_groups'][0]['lr'])    \n",
    "\n",
    "    print(loss)"
   ]
  },
  {
   "cell_type": "code",
   "execution_count": 20,
   "id": "bbe4e962",
   "metadata": {},
   "outputs": [
    {
     "name": "stdout",
     "output_type": "stream",
     "text": [
      "tensor(3, device='cuda:0')\n",
      "tensor([3.])\n"
     ]
    }
   ],
   "source": [
    "import matplotlib.pyplot as plt\n",
    "image,label=next(iter(train_loader))\n",
    "with torch.no_grad():\n",
    "    image=image.view(1,1,28,28)\n",
    "    image=image.to(device)\n",
    "    pred=model(image)\n",
    "    print(torch.argmax(pred))\n",
    "    print(label)"
   ]
  },
  {
   "cell_type": "code",
   "execution_count": null,
   "id": "43a0ec6f",
   "metadata": {},
   "outputs": [],
   "source": []
  }
 ],
 "metadata": {
  "kernelspec": {
   "display_name": "Python 3 (ipykernel)",
   "language": "python",
   "name": "python3"
  },
  "language_info": {
   "codemirror_mode": {
    "name": "ipython",
    "version": 3
   },
   "file_extension": ".py",
   "mimetype": "text/x-python",
   "name": "python",
   "nbconvert_exporter": "python",
   "pygments_lexer": "ipython3",
   "version": "3.9.12"
  }
 },
 "nbformat": 4,
 "nbformat_minor": 5
}
