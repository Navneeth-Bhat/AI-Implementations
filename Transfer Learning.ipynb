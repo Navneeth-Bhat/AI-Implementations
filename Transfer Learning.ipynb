{
 "cells": [
  {
   "cell_type": "code",
   "execution_count": 1,
   "id": "d478c7f2",
   "metadata": {},
   "outputs": [],
   "source": [
    "import torch\n",
    "import torch.nn as nn\n",
    "import numpy as np\n",
    "import torchvision\n",
    "import matplotlib.pyplot as plt\n",
    "import pandas as pd\n",
    "from torch.utils.data import Dataset,DataLoader\n",
    "from torchvision import models,datasets,transforms\n",
    "from torchinfo import summary\n",
    "\n",
    "device=torch.device('cuda' if torch.cuda.is_available() else 'cpu')\n",
    "\n",
    "num_classes=10\n",
    "num_epochs=5\n",
    "batch_size=64\n",
    "learning_rate=1e-3\n",
    "\n"
   ]
  },
  {
   "cell_type": "code",
   "execution_count": 2,
   "id": "9a913274",
   "metadata": {},
   "outputs": [
    {
     "name": "stdout",
     "output_type": "stream",
     "text": [
      "Files already downloaded and verified\n"
     ]
    }
   ],
   "source": [
    "data=datasets.CIFAR10(root='./data',train=True,transform=transforms.ToTensor(),download=True)"
   ]
  },
  {
   "cell_type": "code",
   "execution_count": 3,
   "id": "adfff0d1",
   "metadata": {},
   "outputs": [],
   "source": [
    "train_loader=DataLoader(dataset=data,batch_size=batch_size,shuffle=True)"
   ]
  },
  {
   "cell_type": "code",
   "execution_count": null,
   "id": "bf78bcc2",
   "metadata": {},
   "outputs": [],
   "source": [
    "img,label=next(iter(train_loader))"
   ]
  },
  {
   "cell_type": "code",
   "execution_count": 9,
   "id": "0d89f6bf",
   "metadata": {},
   "outputs": [],
   "source": [
    "model=torchvision.models.vgg16(pretrained=True)"
   ]
  },
  {
   "cell_type": "code",
   "execution_count": 5,
   "id": "c7201f04",
   "metadata": {},
   "outputs": [],
   "source": [
    "class Identity(nn.Module):\n",
    "    def __init__(self):\n",
    "        super(Identity,self).__init__()\n",
    "        \n",
    "    def forward(self,x):\n",
    "        return x"
   ]
  },
  {
   "cell_type": "code",
   "execution_count": 10,
   "id": "e699d1a0",
   "metadata": {},
   "outputs": [],
   "source": [
    "for param in model.parameters():\n",
    "        param.requires_grad=False\n",
    "model.avgpool=Identity()\n",
    "model.classifier=nn.Linear(512,10)"
   ]
  },
  {
   "cell_type": "code",
   "execution_count": 41,
   "id": "a58df444",
   "metadata": {},
   "outputs": [
    {
     "name": "stdout",
     "output_type": "stream",
     "text": [
      "VGG(\n",
      "  (features): Sequential(\n",
      "    (0): Conv2d(3, 64, kernel_size=(3, 3), stride=(1, 1), padding=(1, 1))\n",
      "    (1): ReLU(inplace=True)\n",
      "    (2): Conv2d(64, 64, kernel_size=(3, 3), stride=(1, 1), padding=(1, 1))\n",
      "    (3): ReLU(inplace=True)\n",
      "    (4): MaxPool2d(kernel_size=2, stride=2, padding=0, dilation=1, ceil_mode=False)\n",
      "    (5): Conv2d(64, 128, kernel_size=(3, 3), stride=(1, 1), padding=(1, 1))\n",
      "    (6): ReLU(inplace=True)\n",
      "    (7): Conv2d(128, 128, kernel_size=(3, 3), stride=(1, 1), padding=(1, 1))\n",
      "    (8): ReLU(inplace=True)\n",
      "    (9): MaxPool2d(kernel_size=2, stride=2, padding=0, dilation=1, ceil_mode=False)\n",
      "    (10): Conv2d(128, 256, kernel_size=(3, 3), stride=(1, 1), padding=(1, 1))\n",
      "    (11): ReLU(inplace=True)\n",
      "    (12): Conv2d(256, 256, kernel_size=(3, 3), stride=(1, 1), padding=(1, 1))\n",
      "    (13): ReLU(inplace=True)\n",
      "    (14): Conv2d(256, 256, kernel_size=(3, 3), stride=(1, 1), padding=(1, 1))\n",
      "    (15): ReLU(inplace=True)\n",
      "    (16): MaxPool2d(kernel_size=2, stride=2, padding=0, dilation=1, ceil_mode=False)\n",
      "    (17): Conv2d(256, 512, kernel_size=(3, 3), stride=(1, 1), padding=(1, 1))\n",
      "    (18): ReLU(inplace=True)\n",
      "    (19): Conv2d(512, 512, kernel_size=(3, 3), stride=(1, 1), padding=(1, 1))\n",
      "    (20): ReLU(inplace=True)\n",
      "    (21): Conv2d(512, 512, kernel_size=(3, 3), stride=(1, 1), padding=(1, 1))\n",
      "    (22): ReLU(inplace=True)\n",
      "    (23): MaxPool2d(kernel_size=2, stride=2, padding=0, dilation=1, ceil_mode=False)\n",
      "    (24): Conv2d(512, 512, kernel_size=(3, 3), stride=(1, 1), padding=(1, 1))\n",
      "    (25): ReLU(inplace=True)\n",
      "    (26): Conv2d(512, 512, kernel_size=(3, 3), stride=(1, 1), padding=(1, 1))\n",
      "    (27): ReLU(inplace=True)\n",
      "    (28): Conv2d(512, 512, kernel_size=(3, 3), stride=(1, 1), padding=(1, 1))\n",
      "    (29): ReLU(inplace=True)\n",
      "    (30): MaxPool2d(kernel_size=2, stride=2, padding=0, dilation=1, ceil_mode=False)\n",
      "  )\n",
      "  (avgpool): AdaptiveAvgPool2d(output_size=(7, 7))\n",
      "  (classifier): Identity()\n",
      ")\n"
     ]
    }
   ],
   "source": [
    "print(model)"
   ]
  },
  {
   "cell_type": "code",
   "execution_count": 44,
   "id": "c3774f8d",
   "metadata": {},
   "outputs": [
    {
     "data": {
      "text/plain": [
       "==========================================================================================\n",
       "Layer (type:depth-idx)                   Output Shape              Param #\n",
       "==========================================================================================\n",
       "VGG                                      [64, 10]                  --\n",
       "├─Sequential: 1-1                        [64, 512, 1, 1]           --\n",
       "│    └─Conv2d: 2-1                       [64, 64, 32, 32]          (1,792)\n",
       "│    └─ReLU: 2-2                         [64, 64, 32, 32]          --\n",
       "│    └─Conv2d: 2-3                       [64, 64, 32, 32]          (36,928)\n",
       "│    └─ReLU: 2-4                         [64, 64, 32, 32]          --\n",
       "│    └─MaxPool2d: 2-5                    [64, 64, 16, 16]          --\n",
       "│    └─Conv2d: 2-6                       [64, 128, 16, 16]         (73,856)\n",
       "│    └─ReLU: 2-7                         [64, 128, 16, 16]         --\n",
       "│    └─Conv2d: 2-8                       [64, 128, 16, 16]         (147,584)\n",
       "│    └─ReLU: 2-9                         [64, 128, 16, 16]         --\n",
       "│    └─MaxPool2d: 2-10                   [64, 128, 8, 8]           --\n",
       "│    └─Conv2d: 2-11                      [64, 256, 8, 8]           (295,168)\n",
       "│    └─ReLU: 2-12                        [64, 256, 8, 8]           --\n",
       "│    └─Conv2d: 2-13                      [64, 256, 8, 8]           (590,080)\n",
       "│    └─ReLU: 2-14                        [64, 256, 8, 8]           --\n",
       "│    └─Conv2d: 2-15                      [64, 256, 8, 8]           (590,080)\n",
       "│    └─ReLU: 2-16                        [64, 256, 8, 8]           --\n",
       "│    └─MaxPool2d: 2-17                   [64, 256, 4, 4]           --\n",
       "│    └─Conv2d: 2-18                      [64, 512, 4, 4]           (1,180,160)\n",
       "│    └─ReLU: 2-19                        [64, 512, 4, 4]           --\n",
       "│    └─Conv2d: 2-20                      [64, 512, 4, 4]           (2,359,808)\n",
       "│    └─ReLU: 2-21                        [64, 512, 4, 4]           --\n",
       "│    └─Conv2d: 2-22                      [64, 512, 4, 4]           (2,359,808)\n",
       "│    └─ReLU: 2-23                        [64, 512, 4, 4]           --\n",
       "│    └─MaxPool2d: 2-24                   [64, 512, 2, 2]           --\n",
       "│    └─Conv2d: 2-25                      [64, 512, 2, 2]           (2,359,808)\n",
       "│    └─ReLU: 2-26                        [64, 512, 2, 2]           --\n",
       "│    └─Conv2d: 2-27                      [64, 512, 2, 2]           (2,359,808)\n",
       "│    └─ReLU: 2-28                        [64, 512, 2, 2]           --\n",
       "│    └─Conv2d: 2-29                      [64, 512, 2, 2]           (2,359,808)\n",
       "│    └─ReLU: 2-30                        [64, 512, 2, 2]           --\n",
       "│    └─MaxPool2d: 2-31                   [64, 512, 1, 1]           --\n",
       "├─AdaptiveAvgPool2d: 1-2                 [64, 512, 7, 7]           --\n",
       "├─Linear: 1-3                            [64, 10]                  250,890\n",
       "==========================================================================================\n",
       "Total params: 14,965,578\n",
       "Trainable params: 250,890\n",
       "Non-trainable params: 14,714,688\n",
       "Total mult-adds (G): 20.08\n",
       "==========================================================================================\n",
       "Input size (MB): 0.79\n",
       "Forward/backward pass size (MB): 141.56\n",
       "Params size (MB): 59.86\n",
       "Estimated Total Size (MB): 202.21\n",
       "=========================================================================================="
      ]
     },
     "execution_count": 44,
     "metadata": {},
     "output_type": "execute_result"
    }
   ],
   "source": [
    "summary(model,input_size=img.shape)"
   ]
  },
  {
   "cell_type": "code",
   "execution_count": null,
   "id": "4731ba0d",
   "metadata": {},
   "outputs": [],
   "source": [
    "img=img.to(device)\n",
    "model=model.to(device)\n",
    "a=model(img)\n",
    "print(a)"
   ]
  },
  {
   "cell_type": "code",
   "execution_count": 7,
   "id": "e41b937b",
   "metadata": {},
   "outputs": [],
   "source": [
    "criterion=nn.CrossEntropyLoss()\n",
    "optimizer=torch.optim.Adam(model.parameters(),lr=learning_rate)"
   ]
  },
  {
   "cell_type": "code",
   "execution_count": null,
   "id": "9f9ec953",
   "metadata": {},
   "outputs": [
    {
     "name": "stdout",
     "output_type": "stream",
     "text": [
      "tensor(2.3842, grad_fn=<NllLossBackward0>)\n"
     ]
    }
   ],
   "source": [
    "#model=model.to(device)\n",
    "for epoch in range(num_epochs):\n",
    "    for i,(images,labels) in enumerate(train_loader):\n",
    "        #labels=labels.type(torch.LongTensor)\n",
    "        #images=images.view(64,1,28,28)\n",
    "        #images=images.to(device)\n",
    "        #labels=labels.to(device)\n",
    "        preds=model(images)\n",
    "        loss=criterion(preds,labels)\n",
    "        optimizer.zero_grad()\n",
    "        loss.backward()\n",
    "        optimizer.step()\n",
    "\n",
    "    print(loss)"
   ]
  },
  {
   "cell_type": "code",
   "execution_count": 32,
   "id": "c0ef70a0",
   "metadata": {},
   "outputs": [
    {
     "name": "stdout",
     "output_type": "stream",
     "text": [
      "torch.return_types.max(\n",
      "values=tensor([ 0.6609,  2.8845,  0.4496,  0.6590,  1.9947,  0.8231,  7.6677,  1.8242,\n",
      "         2.6658,  4.3936,  2.6090,  2.7188,  1.5738,  1.0147,  4.1542,  1.4089,\n",
      "         1.2017,  2.7490,  0.5536,  4.3098,  4.8601,  2.9283,  2.4579,  1.4203,\n",
      "         1.7378,  8.0793,  2.4885,  6.6050,  1.5144,  4.2351,  3.9911,  0.8830,\n",
      "         3.7690,  1.6727,  3.5150, 11.8182,  3.3871,  3.5651,  3.6528,  1.7128,\n",
      "         1.0004,  1.9216,  2.6288,  2.3533,  1.7929,  1.9538,  5.5470,  1.3782,\n",
      "         9.2333,  0.4691,  1.7080,  3.1826,  4.4733,  5.3314,  0.6718,  1.4629,\n",
      "         0.9189,  1.2039,  4.2454,  2.4564,  7.3553,  2.1168,  2.8603,  3.3438],\n",
      "       device='cuda:0'),\n",
      "indices=tensor([4, 4, 1, 4, 4, 7, 4, 7, 7, 4, 0, 1, 1, 0, 0, 7, 7, 7, 4, 4, 7, 0, 9, 7,\n",
      "        7, 4, 9, 0, 4, 7, 4, 7, 4, 0, 4, 7, 7, 7, 7, 4, 4, 4, 4, 0, 4, 4, 4, 4,\n",
      "        7, 0, 4, 7, 7, 7, 4, 9, 0, 4, 0, 7, 0, 4, 4, 9], device='cuda:0'))\n",
      "tensor([0, 8, 7, 9, 8, 5, 8, 5, 6, 0, 7, 1, 1, 2, 4, 5, 5, 6, 1, 0, 1, 7, 9, 3,\n",
      "        1, 8, 9, 4, 5, 6, 2, 5, 8, 4, 8, 6, 1, 6, 1, 8, 2, 1, 8, 0, 0, 2, 8, 5,\n",
      "        6, 5, 8, 6, 6, 3, 1, 9, 1, 5, 4, 1, 2, 8, 5, 9])\n"
     ]
    }
   ],
   "source": [
    "with torch.no_grad():\n",
    "    pred=model(img)\n",
    "    print(torch.max(pred,1))\n",
    "    print(label)"
   ]
  },
  {
   "cell_type": "code",
   "execution_count": null,
   "id": "7bbc7f04",
   "metadata": {},
   "outputs": [],
   "source": []
  }
 ],
 "metadata": {
  "kernelspec": {
   "display_name": "Python 3 (ipykernel)",
   "language": "python",
   "name": "python3"
  },
  "language_info": {
   "codemirror_mode": {
    "name": "ipython",
    "version": 3
   },
   "file_extension": ".py",
   "mimetype": "text/x-python",
   "name": "python",
   "nbconvert_exporter": "python",
   "pygments_lexer": "ipython3",
   "version": "3.9.12"
  }
 },
 "nbformat": 4,
 "nbformat_minor": 5
}
