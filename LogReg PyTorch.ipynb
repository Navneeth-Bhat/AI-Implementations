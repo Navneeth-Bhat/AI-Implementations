{
 "cells": [
  {
   "cell_type": "code",
   "execution_count": 1,
   "id": "cc7969c0",
   "metadata": {},
   "outputs": [
    {
     "name": "stdout",
     "output_type": "stream",
     "text": [
      "569 30\n"
     ]
    }
   ],
   "source": [
    "import torch\n",
    "import torch.nn as nn\n",
    "import numpy as np\n",
    "from sklearn import datasets\n",
    "from sklearn.preprocessing import StandardScaler\n",
    "from sklearn.model_selection import train_test_split\n",
    "\n",
    "bc=datasets.load_breast_cancer()\n",
    "x,y=bc.data,bc.target\n",
    "ns,nf=x.shape\n",
    "print(ns,nf)\n",
    "xtrain,xtest,ytrain,ytest=train_test_split(x,y,test_size=0.2)\n",
    "\n",
    "#Always use standard scaler when using logistic regression because it scales the data around a mean of 0s\n",
    "sc=StandardScaler()\n",
    "#use only transform for test data because fit calculates mean and variance \n",
    "#and you want that to be a surprise to your model, so you use the training mean and variance\n",
    "xtrain=sc.fit_transform(xtrain)\n",
    "xtest=sc.transform(xtest)\n",
    "\n",
    "xtrain=torch.from_numpy(xtrain.astype(np.float32))\n",
    "xtest=torch.from_numpy(xtest.astype(np.float32))\n",
    "ytrain=torch.from_numpy(ytrain.astype(np.float32))\n",
    "ytest=torch.from_numpy(ytest.astype(np.float32))"
   ]
  },
  {
   "cell_type": "code",
   "execution_count": 2,
   "id": "4f2ffdc8",
   "metadata": {},
   "outputs": [],
   "source": [
    "ytrain=ytrain.view(ytrain.shape[0],1)\n",
    "ytest=ytest.view(ytest.shape[0],1)"
   ]
  },
  {
   "cell_type": "code",
   "execution_count": 3,
   "id": "427f6786",
   "metadata": {},
   "outputs": [],
   "source": [
    "class LogisticRegression(nn.Module):\n",
    "    def __init__(self,n_input_features):\n",
    "        super(LogisticRegression,self).__init__()\n",
    "        self.linear=nn.Linear(n_input_features,1)\n",
    "    \n",
    "    def forward(self,x):\n",
    "        ypred=torch.sigmoid(self.linear(x))\n",
    "        return ypred"
   ]
  },
  {
   "cell_type": "code",
   "execution_count": 4,
   "id": "d3b9d998",
   "metadata": {},
   "outputs": [],
   "source": [
    "model=LogisticRegression(nf)\n",
    "\n",
    "criterion=nn.BCELoss()\n",
    "optimizer=torch.optim.SGD(model.parameters(),lr=0.01)\n",
    "\n",
    "n_epochs=100"
   ]
  },
  {
   "cell_type": "code",
   "execution_count": 5,
   "id": "d5f2169a",
   "metadata": {},
   "outputs": [
    {
     "name": "stdout",
     "output_type": "stream",
     "text": [
      "0.8113318681716919\n"
     ]
    }
   ],
   "source": [
    "for epoch in range(n_epochs):\n",
    "    ypred=model(xtrain)\n",
    "    loss=criterion(ypred,ytrain)\n",
    "    loss.backward()\n",
    "    optimizer.step()\n",
    "    optimizer.zero_grad()\n",
    "    \n",
    "    if(epoch+1%10)==1:\n",
    "        print(loss.item())"
   ]
  },
  {
   "cell_type": "code",
   "execution_count": 13,
   "id": "3b876c87",
   "metadata": {},
   "outputs": [
    {
     "name": "stdout",
     "output_type": "stream",
     "text": [
      "tensor([1.])\n"
     ]
    }
   ],
   "source": [
    "print(ytest[30])"
   ]
  },
  {
   "cell_type": "code",
   "execution_count": 14,
   "id": "0aa0d5e8",
   "metadata": {},
   "outputs": [
    {
     "name": "stdout",
     "output_type": "stream",
     "text": [
      "tensor([1.])\n"
     ]
    }
   ],
   "source": [
    "#use no grad when predicting because otherwise it will calculate the gradient\n",
    "with torch.no_grad():\n",
    "    print(model(xtest[30]).round())"
   ]
  },
  {
   "cell_type": "code",
   "execution_count": null,
   "id": "67927e2a",
   "metadata": {},
   "outputs": [],
   "source": []
  }
 ],
 "metadata": {
  "kernelspec": {
   "display_name": "Python 3 (ipykernel)",
   "language": "python",
   "name": "python3"
  },
  "language_info": {
   "codemirror_mode": {
    "name": "ipython",
    "version": 3
   },
   "file_extension": ".py",
   "mimetype": "text/x-python",
   "name": "python",
   "nbconvert_exporter": "python",
   "pygments_lexer": "ipython3",
   "version": "3.9.12"
  }
 },
 "nbformat": 4,
 "nbformat_minor": 5
}
