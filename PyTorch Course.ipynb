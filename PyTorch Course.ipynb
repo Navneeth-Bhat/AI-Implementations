{
 "cells": [
  {
   "cell_type": "code",
   "execution_count": null,
   "id": "0e244e40-5c59-458f-a110-68e664c90087",
   "metadata": {},
   "outputs": [],
   "source": [
    "import torch\n",
    "import numpy as np"
   ]
  },
  {
   "cell_type": "code",
   "execution_count": null,
   "id": "197d8458-99b4-40a3-83ca-8f95e42fb76f",
   "metadata": {},
   "outputs": [],
   "source": [
    "#empty=tensor with uninitialised data\n",
    "x=torch.empty(2,3)\n",
    "#zeros\n",
    "x=torch.zeros(2,3)\n",
    "#ones\n",
    "x=torch.ones(2,3,dtype=torch.int)\n",
    "#dtype\n",
    "x.dtype\n",
    "#size\n",
    "x.size()\n",
    "#create a tensor\n",
    "x=torch.tensor([[1.,2.,3.],[1.,2.,3.]])\n",
    "#random\n",
    "x=torch.rand(2,2)\n",
    "y=torch.rand(2,2)\n",
    "#elementwise addition\n",
    "a=x+y\n",
    "a=torch.add(x,y)\n",
    "#function ending with _ is inplace(y is modified)\n",
    "y.add_(x)\n",
    "#subtract\n",
    "a=x-y\n",
    "a=torch.sub(x,y)\n",
    "#multiply\n",
    "a=x*y\n",
    "a=torch.mul(x,y)\n",
    "y.mul_(x)\n",
    "#divide\n",
    "a=x/y"
   ]
  },
  {
   "cell_type": "code",
   "execution_count": null,
   "id": "f2ea5a9f-75fa-4734-adfc-04f938636067",
   "metadata": {},
   "outputs": [],
   "source": [
    "#Getting a value\n",
    "x=torch.rand(2,3)\n",
    "print(x[1,1].item())\n",
    "#reshape\n",
    "#y=x.view(6)\n",
    "#if you dont want to specify one dimension\n",
    "y=x.view(-1,3)\n",
    "#numpy to torch\n",
    "a=torch.ones(5)\n",
    "print(a)\n",
    "b=a.numpy()\n",
    "#check type\n",
    "print(type(a),type(b))\n",
    "#torch to numpy\n",
    "a=np.ones(5)\n",
    "b=torch.from_numpy(a)\n",
    "b"
   ]
  },
  {
   "cell_type": "code",
   "execution_count": null,
   "id": "f87fdf3b-6a1e-4db3-b2a8-38e03223936d",
   "metadata": {},
   "outputs": [],
   "source": [
    "#create tensor on gpu\n",
    "if torch.cuda.is_available():\n",
    "    device=torch.device(\"cuda\")\n",
    "    x=torch.ones(4,4,device=device)\n",
    "    #another way\n",
    "    y=torch.ones(4,4)\n",
    "    y=y.to(device)\n",
    "#back to cpu\n",
    "z=x+y\n",
    "z=z.to(\"cpu\")"
   ]
  },
  {
   "cell_type": "code",
   "execution_count": null,
   "id": "cd151f78-2441-4209-bf9d-4ac974b305f7",
   "metadata": {},
   "outputs": [],
   "source": [
    "#gradient=set requires_grad=True if you require the gradient of that variable(you need to optimize it)\n",
    "x=torch.randn(3,requires_grad=True)\n",
    "y=x+2\n",
    "#y has a gradient function grad_fn which points to a add_backward backprop function. autograd creates a computation graph with every variable that you associate with it.\n",
    "z=y*y*2\n",
    "z=z.mean()\n",
    "#calculate the gradient of z with respect to x\n",
    "z.backward()\n",
    "#if the last value is not a scalar then you must give it a vector as argument"
   ]
  },
  {
   "cell_type": "code",
   "execution_count": null,
   "id": "c2df49d6-f96a-4c31-8af7-5f6579e3cfa3",
   "metadata": {},
   "outputs": [],
   "source": [
    "#stop tracking gradients\n",
    "#inplace\n",
    "x.requires_grad_(False)\n",
    "#creates a new variable with the same values but no gradient attached to it\n",
    "y=x.detach()\n",
    "#\n",
    "with torch.no_grad():\n",
    "    y=y+2\n",
    "#every time you call the backward() function the gradients get summed up\n",
    "weights = torch.ones(4,requires_grad=True)\n",
    "for epoch in range(2):\n",
    "    model=(weights*3).sum()\n",
    "    model.backward()\n",
    "    #empty grads\n",
    "    weights.grad.zero_()\n",
    "    print(weights.grad)"
   ]
  },
  {
   "cell_type": "code",
   "execution_count": null,
   "id": "2e897826-570d-47d9-929c-564978697d25",
   "metadata": {},
   "outputs": [],
   "source": [
    "#Backprop\n",
    "#1.Forward Pass 2.Compute local gradients(computation graph) 3.Backward pass: Compute Dl/Dw using chain rule\n",
    "x=torch.tensor(1.0)\n",
    "y=torch.tensor(2.0)\n",
    "w=torch.tensor(1.0,requires_grad=True)\n",
    "y_hat=w*x\n",
    "loss=(y_hat-y)**2\n",
    "print(loss)\n",
    "loss.backward()\n",
    "w.grad"
   ]
  },
  {
   "cell_type": "code",
   "execution_count": null,
   "id": "d51e8c18-849f-4bf8-acf2-e4662a05bcdc",
   "metadata": {},
   "outputs": [],
   "source": [
    "#Gradient Descent\n",
    "#linear regression from scratch\n",
    "x=np.array([1,2,3,4],dtype=np.float32)\n",
    "y=np.array([2,4,6,8])\n",
    "w=0.\n",
    "def forward(x):\n",
    "    return w*x\n",
    "\n",
    "def loss(y,y_hat):\n",
    "    return((y_hat-y)**2).mean()\n",
    "\n",
    "def gradient(x,y,y_hat):\n",
    "    return np.dot(2*x,y_hat-y).mean()\n",
    "\n",
    "#print(f'pred={forward(5)}')\n",
    "\n",
    "lr=0.01\n",
    "epochs=5\n",
    "\n",
    "for i in range(epochs):\n",
    "    y_hat=forward(x)\n",
    "    l=loss(y,y_hat)\n",
    "    dw=gradient(x,y,y_hat)\n",
    "    w-=lr*dw\n",
    "    if epoch%1==0:\n",
    "        print(f'w={w},loss={l}')\n",
    "print(forward(1))"
   ]
  },
  {
   "cell_type": "code",
   "execution_count": null,
   "id": "681bbcc6-c7e0-4187-b89e-23d489a7108b",
   "metadata": {},
   "outputs": [],
   "source": [
    "#linear regression with autograd\n",
    "import torch\n",
    "\n",
    "x=torch.tensor([1,2,3,4],dtype=torch.float32)\n",
    "y=torch.tensor([2,4,6,8],dtype=torch.float32)\n",
    "w=torch.zeros(1,dtype=torch.float32,requires_grad=True)\n",
    "def forward(x):\n",
    "    return w*x\n",
    "\n",
    "def loss(y,y_hat):\n",
    "    return((y_hat-y)**2).mean()\n",
    "\n",
    "#print(f'pred={forward(5)}')\n",
    "\n",
    "lr=0.01\n",
    "epochs=20\n",
    "\n",
    "for i in range(epochs):\n",
    "    y_hat=forward(x)\n",
    "    l=loss(y,y_hat)\n",
    "    l.backward()\n",
    "    with torch.no_grad():\n",
    "        w-=lr*w.grad\n",
    "    w.grad.zero_()\n",
    "    if epoch%1==0:\n",
    "        print(f'w={w},loss={l}')\n",
    "print(forward(1))"
   ]
  },
  {
   "cell_type": "code",
   "execution_count": null,
   "id": "8c328a6f-a98a-497f-b080-3e963d10d78e",
   "metadata": {},
   "outputs": [],
   "source": [
    "#Design model(input,output size,forward pass)\n",
    "#Construct loss and optimizer\n",
    "#Training loop: forward pass: compute predictions->backward pass:gradients->update weights"
   ]
  },
  {
   "cell_type": "code",
   "execution_count": null,
   "id": "87e37fba-3034-452b-a5ab-51993b3abbc3",
   "metadata": {},
   "outputs": [],
   "source": [
    "#linear regression with gradients,loss and parameter updates using pytorch\n",
    "import torch\n",
    "import torch.nn as nn\n",
    "\n",
    "x=torch.tensor([1,2,3,4],dtype=torch.float32)\n",
    "y=torch.tensor([2,4,6,8],dtype=torch.float32)\n",
    "w=torch.zeros(1,dtype=torch.float32,requires_grad=True)\n",
    "def forward(x):\n",
    "    return w*x\n",
    "\n",
    "lr=0.01\n",
    "epochs=100\n",
    "\n",
    "loss=nn.MSELoss()\n",
    "optimizer=torch.optim.SGD([w],lr=lr)\n",
    "for i in range(epochs):\n",
    "    y_hat=forward(x)\n",
    "    l=loss(y,y_hat)\n",
    "    l.backward()\n",
    "    optimizer.step()\n",
    "    optimizer.zero_grad()\n",
    "    if i%1==0:\n",
    "        print(f'w={w},loss={l}')\n",
    "        \n",
    "print(forward(1))"
   ]
  },
  {
   "cell_type": "code",
   "execution_count": null,
   "id": "a9c98033-87d3-46e6-83a8-a6e9286e2aea",
   "metadata": {},
   "outputs": [],
   "source": [
    "clear"
   ]
  }
 ],
 "metadata": {
  "kernelspec": {
   "display_name": "Python 3 (ipykernel)",
   "language": "python",
   "name": "python3"
  },
  "language_info": {
   "codemirror_mode": {
    "name": "ipython",
    "version": 3
   },
   "file_extension": ".py",
   "mimetype": "text/x-python",
   "name": "python",
   "nbconvert_exporter": "python",
   "pygments_lexer": "ipython3",
   "version": "3.9.12"
  }
 },
 "nbformat": 4,
 "nbformat_minor": 5
}
