{
 "cells": [
  {
   "cell_type": "code",
   "execution_count": 33,
   "id": "ae1794e1",
   "metadata": {},
   "outputs": [],
   "source": [
    "import torch\n",
    "import torch.nn as nn\n",
    "import numpy as np\n",
    "import torchvision\n",
    "import matplotlib.pyplot as plt\n",
    "import pandas as pd\n",
    "from torch.utils.data import Dataset,DataLoader"
   ]
  },
  {
   "cell_type": "code",
   "execution_count": 87,
   "id": "467ac5ce",
   "metadata": {},
   "outputs": [],
   "source": [
    "link='C:/Users/NavneethBhat/Desktop/Code/Implementations/data/train.csv/train.csv'"
   ]
  },
  {
   "cell_type": "code",
   "execution_count": 88,
   "id": "af740b31",
   "metadata": {},
   "outputs": [],
   "source": [
    "class DigitDataset(Dataset):\n",
    "    def __init__(self,link):\n",
    "        dataset=pd.read_csv(link,dtype=np.float32)\n",
    "        y=dataset['label'].values\n",
    "        x=dataset.drop('label',axis=1).values\n",
    "        self.x=torch.from_numpy(x)\n",
    "        self.y=torch.from_numpy(y)\n",
    "        \n",
    "    def __getitem__(self,idx):\n",
    "        return self.x[idx],self.y[idx]\n",
    "    \n",
    "    def __len__(self):\n",
    "        return self.x.shape[0]"
   ]
  },
  {
   "cell_type": "code",
   "execution_count": 89,
   "id": "5c1841bb",
   "metadata": {},
   "outputs": [],
   "source": [
    "data=DigitDataset(link)"
   ]
  },
  {
   "cell_type": "code",
   "execution_count": 27,
   "id": "b8215d63",
   "metadata": {},
   "outputs": [
    {
     "data": {
      "text/plain": [
       "<matplotlib.image.AxesImage at 0x13f3ffea850>"
      ]
     },
     "execution_count": 27,
     "metadata": {},
     "output_type": "execute_result"
    },
    {
     "data": {
      "image/png": "[encoded data removed]",
      "text/plain": [
       "<Figure size 432x288 with 1 Axes>"
      ]
     },
     "metadata": {
      "needs_background": "light"
     },
     "output_type": "display_data"
    }
   ],
   "source": [
    "pixels,_=data[4]\n",
    "pixels=pixels.view((28,28))\n",
    "plt.imshow(pixels,cmap='gray')"
   ]
  },
  {
   "cell_type": "code",
   "execution_count": 20,
   "id": "456a9c79",
   "metadata": {},
   "outputs": [],
   "source": [
    "device=torch.device('cuda' if torch.cuda.is_available() else 'cpu')"
   ]
  },
  {
   "cell_type": "code",
   "execution_count": 84,
   "id": "4cb29a12",
   "metadata": {},
   "outputs": [],
   "source": [
    "input_size=784\n",
    "hidden_size=100\n",
    "num_classes=10\n",
    "num_epochs=30\n",
    "batch_size=100\n",
    "learning_rate=2e-5"
   ]
  },
  {
   "cell_type": "markdown",
   "id": "ee1b96dd",
   "metadata": {},
   "source": [
    "dataset define->hyperparameters->dataload->model->optimizer and loss function->train->test"
   ]
  },
  {
   "cell_type": "code",
   "execution_count": 90,
   "id": "1cd7406d",
   "metadata": {},
   "outputs": [],
   "source": [
    "train_loader=DataLoader(dataset=data,batch_size=batch_size,shuffle=True)"
   ]
  },
  {
   "cell_type": "code",
   "execution_count": 75,
   "id": "93f1efba",
   "metadata": {},
   "outputs": [],
   "source": [
    "class Net(nn.Module):\n",
    "    def __init__(self):\n",
    "        #\n",
    "        self.c1=nn.Conv2d\n",
    "    \n",
    "    def forward(self,x):\n",
    "        return out"
   ]
  },
  {
   "cell_type": "code",
   "execution_count": 76,
   "id": "b2ae3571",
   "metadata": {},
   "outputs": [
    {
     "data": {
      "text/plain": [
       "Net(\n",
       "  (l1): Linear(in_features=784, out_features=100, bias=True)\n",
       "  (relu): ReLU()\n",
       "  (l2): Linear(in_features=100, out_features=100, bias=True)\n",
       "  (relu2): ReLU()\n",
       "  (l3): Linear(in_features=100, out_features=10, bias=True)\n",
       ")"
      ]
     },
     "execution_count": 76,
     "metadata": {},
     "output_type": "execute_result"
    }
   ],
   "source": [
    "model=Net().to(device)"
   ]
  },
  {
   "cell_type": "code",
   "execution_count": 85,
   "id": "6d4bb002",
   "metadata": {},
   "outputs": [],
   "source": [
    "criterion=nn.CrossEntropyLoss()\n",
    "optimizer=torch.optim.Adam(model.parameters(),lr=learning_rate)"
   ]
  },
  {
   "cell_type": "code",
   "execution_count": 91,
   "id": "1d880e95",
   "metadata": {},
   "outputs": [
    {
     "name": "stdout",
     "output_type": "stream",
     "text": [
      "tensor(0.4027, device='cuda:0', grad_fn=<NllLossBackward0>)\n",
      "tensor(0.2929, device='cuda:0', grad_fn=<NllLossBackward0>)\n",
      "tensor(0.3542, device='cuda:0', grad_fn=<NllLossBackward0>)\n",
      "tensor(0.3100, device='cuda:0', grad_fn=<NllLossBackward0>)\n",
      "tensor(0.1587, device='cuda:0', grad_fn=<NllLossBackward0>)\n",
      "tensor(0.4163, device='cuda:0', grad_fn=<NllLossBackward0>)\n",
      "tensor(0.3120, device='cuda:0', grad_fn=<NllLossBackward0>)\n",
      "tensor(0.0383, device='cuda:0', grad_fn=<NllLossBackward0>)\n",
      "tensor(0.0930, device='cuda:0', grad_fn=<NllLossBackward0>)\n",
      "tensor(0.1235, device='cuda:0', grad_fn=<NllLossBackward0>)\n",
      "tensor(0.1296, device='cuda:0', grad_fn=<NllLossBackward0>)\n",
      "tensor(0.1005, device='cuda:0', grad_fn=<NllLossBackward0>)\n",
      "tensor(0.0806, device='cuda:0', grad_fn=<NllLossBackward0>)\n",
      "tensor(0.1124, device='cuda:0', grad_fn=<NllLossBackward0>)\n",
      "tensor(0.0493, device='cuda:0', grad_fn=<NllLossBackward0>)\n",
      "tensor(0.1413, device='cuda:0', grad_fn=<NllLossBackward0>)\n",
      "tensor(0.0563, device='cuda:0', grad_fn=<NllLossBackward0>)\n",
      "tensor(0.0830, device='cuda:0', grad_fn=<NllLossBackward0>)\n",
      "tensor(0.0516, device='cuda:0', grad_fn=<NllLossBackward0>)\n",
      "tensor(0.0268, device='cuda:0', grad_fn=<NllLossBackward0>)\n",
      "tensor(0.1078, device='cuda:0', grad_fn=<NllLossBackward0>)\n",
      "tensor(0.0252, device='cuda:0', grad_fn=<NllLossBackward0>)\n",
      "tensor(0.0797, device='cuda:0', grad_fn=<NllLossBackward0>)\n",
      "tensor(0.1555, device='cuda:0', grad_fn=<NllLossBackward0>)\n",
      "tensor(0.0526, device='cuda:0', grad_fn=<NllLossBackward0>)\n",
      "tensor(0.0782, device='cuda:0', grad_fn=<NllLossBackward0>)\n",
      "tensor(0.0263, device='cuda:0', grad_fn=<NllLossBackward0>)\n",
      "tensor(0.0145, device='cuda:0', grad_fn=<NllLossBackward0>)\n",
      "tensor(0.0339, device='cuda:0', grad_fn=<NllLossBackward0>)\n",
      "tensor(0.0115, device='cuda:0', grad_fn=<NllLossBackward0>)\n"
     ]
    }
   ],
   "source": [
    "for epoch in range(num_epochs):\n",
    "    for i,(images,labels) in enumerate(train_loader):\n",
    "        labels=labels.type(torch.LongTensor)\n",
    "        images=images.to(device)\n",
    "        labels=labels.to(device)\n",
    "        preds=model(images)\n",
    "        loss=criterion(preds,labels)\n",
    "        optimizer.zero_grad()\n",
    "        loss.backward()\n",
    "        optimizer.step()\n",
    "\n",
    "    print(loss)"
   ]
  },
  {
   "cell_type": "code",
   "execution_count": 101,
   "id": "64df4d60",
   "metadata": {},
   "outputs": [],
   "source": [
    "train_loader1=DataLoader(dataset=data,shuffle=True)\n",
    "a,b=next(iter(train_loader1))"
   ]
  },
  {
   "cell_type": "code",
   "execution_count": 97,
   "id": "147fa6a7",
   "metadata": {},
   "outputs": [
    {
     "data": {
      "text/plain": [
       "tensor([[0., 0., 0.,  ..., 0., 0., 0.],\n",
       "        [0., 0., 0.,  ..., 0., 0., 0.],\n",
       "        [0., 0., 0.,  ..., 0., 0., 0.],\n",
       "        ...,\n",
       "        [0., 0., 0.,  ..., 0., 0., 0.],\n",
       "        [0., 0., 0.,  ..., 0., 0., 0.],\n",
       "        [0., 0., 0.,  ..., 0., 0., 0.]])"
      ]
     },
     "execution_count": 97,
     "metadata": {},
     "output_type": "execute_result"
    }
   ],
   "source": [
    "a"
   ]
  },
  {
   "cell_type": "code",
   "execution_count": 111,
   "id": "e7ae070b",
   "metadata": {},
   "outputs": [
    {
     "name": "stdout",
     "output_type": "stream",
     "text": [
      "tensor(12.8936, device='cuda:0')\n",
      "tensor([9.])\n"
     ]
    }
   ],
   "source": [
    "with torch.no_grad():\n",
    "    a=a.to(device)\n",
    "    op=model(a)\n",
    "    pred=torch.max(op.data)\n",
    "    print(pred)\n",
    "    print(b)"
   ]
  },
  {
   "cell_type": "code",
   "execution_count": 117,
   "id": "cb17fa0d",
   "metadata": {},
   "outputs": [],
   "source": [
    "torch.save(model.state_dict(),'C:/Users/NavneethBhat/Desktop/vals')"
   ]
  },
  {
   "cell_type": "code",
   "execution_count": null,
   "id": "bf62e1d1",
   "metadata": {},
   "outputs": [],
   "source": []
  }
 ],
 "metadata": {
  "kernelspec": {
   "display_name": "Python 3 (ipykernel)",
   "language": "python",
   "name": "python3"
  },
  "language_info": {
   "codemirror_mode": {
    "name": "ipython",
    "version": 3
   },
   "file_extension": ".py",
   "mimetype": "text/x-python",
   "name": "python",
   "nbconvert_exporter": "python",
   "pygments_lexer": "ipython3",
   "version": "3.9.12"
  }
 },
 "nbformat": 4,
 "nbformat_minor": 5
}
